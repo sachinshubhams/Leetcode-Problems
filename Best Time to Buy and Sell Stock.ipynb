{
 "cells": [
  {
   "cell_type": "code",
   "execution_count": 1,
   "metadata": {},
   "outputs": [],
   "source": [
    "def maxProfit(prices):\n",
    "    left_ptr=0 #buying\n",
    "    right_ptr=1 #selling\n",
    "    max_profit=0\n",
    "    while right_ptr<len(prices):\n",
    "        if prices[left_ptr]<prices[right_ptr]:\n",
    "            profit=prices[right_ptr]-prices[left_ptr]\n",
    "            max_profit=max(profit,max_profit)\n",
    "        else:\n",
    "            left_ptr=right_ptr\n",
    "        right_ptr+=1\n",
    "    return  max_profit    "
   ]
  },
  {
   "cell_type": "markdown",
   "metadata": {},
   "source": [
    "Complexity: Time=O(n), Space=O(1)"
   ]
  },
  {
   "cell_type": "code",
   "execution_count": 3,
   "metadata": {},
   "outputs": [
    {
     "data": {
      "text/plain": [
       "5"
      ]
     },
     "execution_count": 3,
     "metadata": {},
     "output_type": "execute_result"
    }
   ],
   "source": [
    "Input=[7,1,5,3,6,4]\n",
    "maxProfit(Input)"
   ]
  }
 ],
 "metadata": {
  "kernelspec": {
   "display_name": "Python 3",
   "language": "python",
   "name": "python3"
  },
  "language_info": {
   "codemirror_mode": {
    "name": "ipython",
    "version": 3
   },
   "file_extension": ".py",
   "mimetype": "text/x-python",
   "name": "python",
   "nbconvert_exporter": "python",
   "pygments_lexer": "ipython3",
   "version": "3.8.5"
  }
 },
 "nbformat": 4,
 "nbformat_minor": 4
}
